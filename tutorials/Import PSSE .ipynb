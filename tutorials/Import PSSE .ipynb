{
 "cells": [
  {
   "cell_type": "markdown",
   "id": "a41f26ab",
   "metadata": {},
   "source": [
    "## Import from PSSE-raw to Pandapower grid"
   ]
  },
  {
   "cell_type": "code",
   "execution_count": 2,
   "id": "f20a6b91",
   "metadata": {},
   "outputs": [],
   "source": [
    "import yaml\n",
    "import pandas as pd\n",
    "pd.set_option(\"display.max_columns\", None)\n",
    "import math\n",
    "import numpy as np\n",
    "import json\n",
    "import os,sys,inspect\n",
    "currentdir =  os.path.abspath(os.getcwd())\n",
    "parentdir = os.path.dirname(currentdir)\n",
    "sys.path.insert(0,parentdir) \n",
    "import capacitymap.converter.psse as psse\n",
    "\n",
    "import pandapower as pp\n",
    "from pandapower.plotting.generic_geodata import create_generic_coordinates\n",
    "\n",
    "from capacitymap.controllers.discrete_shunt_controller import DiscreteShuntControl\n",
    "from capacitymap.controllers.discrete_trafo_controller import DiscreteTapControl\n",
    "from capacitymap.grid.grid import Grid, generate_config_from_project, combine_dict, daterange\n",
    "from capacitymap.analysis import analysis_check\n",
    "analysis_check.check_violations.counter=0\n",
    "from capacitymap.controllers.controller_functions import reset_all_controllers"
   ]
  },
  {
   "cell_type": "markdown",
   "id": "4c560191",
   "metadata": {},
   "source": [
    "## Read psse-raw file"
   ]
  },
  {
   "cell_type": "code",
   "execution_count": 3,
   "id": "9396f477",
   "metadata": {},
   "outputs": [
    {
     "data": {
      "text/plain": [
       "'c:\\\\Users\\\\DDDSOadmin\\\\Desktop\\\\capacity\\\\capacity-map\\\\tutorials'"
      ]
     },
     "execution_count": 3,
     "metadata": {},
     "output_type": "execute_result"
    }
   ],
   "source": [
    "currentdir"
   ]
  },
  {
   "cell_type": "code",
   "execution_count": 4,
   "id": "bca6ef01",
   "metadata": {},
   "outputs": [],
   "source": [
    "pssefile= os.path.join(currentdir,'data\\svedala\\Svedala2021-09.raw')\n",
    "df = psse.parse_raw(pssefile)"
   ]
  },
  {
   "cell_type": "markdown",
   "id": "76ff597c",
   "metadata": {},
   "source": [
    "## Create empty pandapower network"
   ]
  },
  {
   "cell_type": "code",
   "execution_count": 16,
   "id": "8aba2b6c",
   "metadata": {},
   "outputs": [],
   "source": [
    "\n",
    "SBASE_net = 100\n",
    "net = pp.create_empty_network(sn_mva=SBASE_net, )\n"
   ]
  },
  {
   "cell_type": "markdown",
   "id": "b269bb60",
   "metadata": {},
   "source": [
    "## Create buses"
   ]
  },
  {
   "cell_type": "code",
   "execution_count": 17,
   "id": "d2dc10e4",
   "metadata": {},
   "outputs": [],
   "source": [
    "# reads the bus key from df and creates a df over all buses\n",
    "bus = df['bus']['df']\n",
    "bus.NAME = bus.NAME.astype(str)\n",
    "bus.NAME = bus['NAME'].apply(lambda x: x[1:-1]).str.strip()\n",
    "bus.set_index('I', drop=False, append=False, inplace=True, verify_integrity=False)\n",
    "\n",
    "# create pp buses\n",
    "for idx, linerow in bus.iterrows():\n",
    "    service = True\n",
    "    if linerow.IDE == 4:\n",
    "        service = False\n",
    "    pp.create_bus(net, linerow.BASKV, name=linerow.NAME, index=linerow.I, geodata=None, type='b',\n",
    "                  zone=linerow.ZONE, in_service=service)\n",
    "\n",
    "    if linerow.IDE == 3:  # slack bus\n",
    "        pp.create_ext_grid(net, linerow.I, vm_pu=linerow.VM, va_degree=linerow.VA, name=linerow.NAME)\n"
   ]
  },
  {
   "cell_type": "markdown",
   "id": "9053e130",
   "metadata": {},
   "source": [
    "## Create load"
   ]
  },
  {
   "cell_type": "code",
   "execution_count": 18,
   "id": "63a01abe",
   "metadata": {},
   "outputs": [],
   "source": [
    "\n",
    "# create df over loads\n",
    "load = df['load']['df']\n",
    "\n",
    "for idx, linerow in load.iterrows():\n",
    "    status = True if (linerow.STATUS == 1) else False\n",
    "    pp.create_load(net, int(linerow.I), linerow.PL, q_mvar=linerow.QL, const_z_percent=0, const_i_percent=0,\n",
    "                   name=linerow.ID, scaling=1.0, index=None, in_service=status, type=None)\n"
   ]
  },
  {
   "cell_type": "markdown",
   "id": "fc9a31c2",
   "metadata": {},
   "source": [
    "## Create lines from branches"
   ]
  },
  {
   "cell_type": "code",
   "execution_count": 19,
   "id": "382220b7",
   "metadata": {},
   "outputs": [],
   "source": [
    "# create df for lines\n",
    "line = df['branch']['df']\n",
    "\n",
    "line['Knutpunkt I'] = np.nan\n",
    "line['Knutpunkt J'] = np.nan\n",
    "line['vol'] = np.nan\n",
    "\n",
    "#Find number of branches with parallell lines\n",
    "no_parallell_lines = pd.DataFrame(line.groupby([\"I\", \"J\"]).size())\n",
    "\n",
    "for idx, linerow in line.iterrows():\n",
    "    name_I = bus.NAME[bus.I == linerow.I]\n",
    "    name_J = bus.NAME[bus.I == linerow.J]\n",
    "\n",
    "    line.loc[idx, 'Knutpunkt I'] = str(name_I.values[0])\n",
    "    line.loc[idx, 'Knutpunkt J'] = str(name_J.values[0])\n",
    "\n",
    "    bus_vol = bus[bus.I == linerow.I].BASKV.values[0]\n",
    "    Zbase = (bus_vol ** 2) / SBASE_net\n",
    "    Zpu = np.sqrt(linerow.R ** 2 + linerow.X ** 2)\n",
    "    phi = np.arctan(linerow.X / linerow.R)\n",
    "    X = Zpu * Zbase * np.sin(phi)  # conversion from pu\n",
    "    R = Zpu * Zbase * np.cos(phi)\n",
    "    C = (linerow.B / Zbase) * (10 ** 9) / (2 * np.pi * 50)  # C = B/omega\n",
    "    service = True if (linerow.ST == 1) else False\n",
    "    length = 1 if (linerow.LEN == float(0)) else linerow.LEN\n",
    "    i_max = 1.5 if linerow.RATEA == float(0) else (linerow.RATEA * 10 ** 6) / (np.sqrt(3) * bus_vol * 10 ** 3) / 1000\n",
    "    para = no_parallell_lines.loc[(linerow.I, linerow.J), :][0]\n",
    "    # if no line already exists, create a new\n",
    "    if len(net.line[(net.line.from_bus == linerow.I) & (net.line.to_bus == linerow.J)]) == 0:\n",
    "        pp.create_line_from_parameters(net,\n",
    "                                       from_bus=int(linerow.I),\n",
    "                                       to_bus=int(linerow.J),\n",
    "                                       length_km=length,\n",
    "                                       r_ohm_per_km=R,\n",
    "                                       x_ohm_per_km=X,\n",
    "                                       c_nf_per_km=C,\n",
    "                                       max_i_ka=i_max,\n",
    "                                       name=None,\n",
    "                                       index=None,\n",
    "                                       type=None,\n",
    "                                       geodata=None,\n",
    "                                       in_service=service,\n",
    "                                       df=1.0,  # NEEDS TO BE CHECKED UP\n",
    "                                       parallel=para,\n",
    "                                       g_us_per_km=0.0,\n",
    "                                       alpha=None,\n",
    "                                       temperature_degree_celsius=65)"
   ]
  },
  {
   "cell_type": "markdown",
   "id": "22a45cca",
   "metadata": {},
   "source": [
    "## Create generators"
   ]
  },
  {
   "cell_type": "code",
   "execution_count": 20,
   "id": "ab1d37d4",
   "metadata": {},
   "outputs": [],
   "source": [
    "for idx, linerow in df['gen']['df'].iterrows():\n",
    "    b = net.bus[net.bus.index == linerow.I].index.values[0]\n",
    "    p = linerow.PG\n",
    "    v = linerow.VS\n",
    "    s = linerow.MBASE\n",
    "    min_q = linerow.QB\n",
    "    max_q = linerow.QT\n",
    "    max_p = linerow.PT\n",
    "    min_p = linerow.PB\n",
    "    service = True if (linerow.STAT == 1) else False\n",
    "    if b in net.ext_grid.bus.values[:]:\n",
    "        c = 1#print('Ext grid now extra generator needed???')\n",
    "    else:\n",
    "        pp.create_gen(net, bus=b, p_mw=p, vm_pu=v, sn_mva=s, name=None, index=None,\n",
    "                      max_q_mvar=max_q, min_q_mvar=min_q, min_p_mw=min_p, max_p_mw=max_p,\n",
    "                      in_service=service)"
   ]
  },
  {
   "cell_type": "markdown",
   "id": "fa0a85ce",
   "metadata": {},
   "source": [
    "## Create shunts with discrete control"
   ]
  },
  {
   "cell_type": "code",
   "execution_count": 21,
   "id": "a5d2801d",
   "metadata": {},
   "outputs": [],
   "source": [
    "shunt = df['switchedshunt']['df']\n",
    "shunt_block_columns =  ['N1', 'B1', 'N2', 'B2', 'N3', 'B3', 'N4', 'B4', 'N5',\n",
    "       'B5', 'N6', 'B6', 'N7', 'B7', 'N8', 'B8']\n",
    "o = 0\n",
    "\n",
    "for idx, linerow in shunt.iterrows():\n",
    "    #create shunt\n",
    "    b = linerow.I\n",
    "    q = linerow.BINIT\n",
    "    pp.create_shunt(net, bus=b, q_mvar=q, p_mw=0.0,\n",
    "                    vn_kv=None, step=1, max_step=1, name=None,\n",
    "                    in_service=True, index=None)\n",
    "\n",
    "    #create shunt controller\n",
    "    init_value= linerow.BINIT\n",
    "    block_data = linerow[shunt_block_columns]\n",
    "    steps_ind = [0]\n",
    "    steps_cap = []\n",
    "    for n,b in zip(block_data[0::2], block_data[1::2]):\n",
    "        if np.isnan(n) or n == 0:\n",
    "            break\n",
    "        \n",
    "        if b<0:\n",
    "            i = 0\n",
    "            while i < n:\n",
    "                steps_ind.append(steps_ind[len(steps_ind)-1]+b)\n",
    "                i+=1\n",
    "        if b>0:\n",
    "            i = 0\n",
    "            while i < n:\n",
    "                if len(steps_cap) > 0:\n",
    "                    steps_cap.append(steps_cap[len(steps_cap)-1]+b)\n",
    "                else:\n",
    "                    steps_cap.append(b)\n",
    "                i+=1\n",
    "    steps = steps_ind + steps_cap\n",
    "    steps.sort(reverse=True)\n",
    "    \n",
    "    init_step = 0\n",
    "    if init_value in steps:\n",
    "        init_step = steps.index(init_value)\n",
    "    \n",
    "    sid=  idx\n",
    "    bid = linerow.SWREM\n",
    "    vol_low = linerow.VSWLO\n",
    "    vol_high = linerow.VSWHI\n",
    "    step_pos = init_step\n",
    "    STAT = True if  linerow.UK2==1 else False\n",
    "    DiscreteShuntControl(net,sid, bid, vol_low,vol_high, steps, init_step, step_pos, in_service=STAT)\n",
    "    o +=1\n",
    "\n"
   ]
  },
  {
   "cell_type": "markdown",
   "id": "7a5f3ade",
   "metadata": {},
   "source": [
    "## Create transformers and tap transformers with discrete tap control"
   ]
  },
  {
   "cell_type": "code",
   "execution_count": 22,
   "id": "32eff6b9",
   "metadata": {},
   "outputs": [],
   "source": [
    "with open(currentdir+'\\data\\\\svedala\\\\tapcontrolldata.json') as f:\n",
    "  tap_trafo = json.load(f)\n",
    "\n",
    "new_dict = {}\n",
    "for t in list(tap_trafo):\n",
    "    #print(tap_trafo[t]['trafo'])\n",
    "    new_dict[tap_trafo[t]['trafo']] = tap_trafo[t]\n",
    "tap_trafo = new_dict"
   ]
  },
  {
   "cell_type": "code",
   "execution_count": 23,
   "id": "c6dac971",
   "metadata": {},
   "outputs": [],
   "source": [
    "tap_index = []\n",
    "# create df over all trafo\n",
    "trafos = df['transformer']\n",
    "trafo1 = trafos['dfs'][2][0]  # record 1 for transformer (Valid for 2 and 3 winding transformers)\n",
    "trafo2 = trafos['dfs'][2][1]  # record 2 for transformer (Valid for 2 and 3 winding transformers)\n",
    "trafo3 = trafos['dfs'][2][2]  # record 3 for transformer (Valid for 2 and 3 winding transformers)\n",
    "trafo4 = trafos['dfs'][2][-1]  # record 4 for transformer (Valid for 2 and 3 winding transformers)\n",
    "\n",
    "trafo_data = pd.concat([trafo1, trafo2, trafo3, trafo4], axis=1)\n",
    "trafo_data = trafo_data.dropna(axis=1, how='all')  # Delete all columns filled only\n",
    "\n",
    "trafo_data['Knutpunkt I'] = np.nan\n",
    "trafo_data['Knutpunkt J'] = np.nan\n",
    "trafo_data['vol I'] = np.nan\n",
    "trafo_data['vol J'] = np.nan\n",
    "\n",
    "c_vkr = 0\n",
    "c_vk = 0\n",
    "c_sn = 0\n",
    "\n",
    "for idx, linerow in trafo_data.iterrows():\n",
    "    name_I = bus[bus.I == linerow.I].index.values[0]\n",
    "    name_J = bus[bus.I == linerow.J].index.values[0]\n",
    "    vol_I = bus.BASKV[bus.I == linerow.I].values[0]\n",
    "    vol_J = bus.BASKV[bus.I == linerow.J].values[0]\n",
    "\n",
    "    if vol_I < vol_J:\n",
    "        hv_b = name_J\n",
    "        hv = vol_J\n",
    "        lv_b = name_I\n",
    "        lv = vol_I\n",
    "    else:\n",
    "        hv_b = name_I\n",
    "        hv = vol_I\n",
    "        lv_b = name_J\n",
    "        lv = vol_J\n",
    "\n",
    "    sn = linerow['SBASE1-2']\n",
    "    z_k = np.sqrt(linerow['R1-2'] ** 2 + linerow['X1-2'] ** 2)\n",
    "    vkr = linerow['R1-2'] * 100 * sn / SBASE_net  # linerow['R1-2']/(1000/linerow.RATA1)*100*10\n",
    "    vk = z_k * 100 * sn / SBASE_net  # z_k/(1000/linerow.RATA1)*100*10\n",
    "\n",
    "    name = linerow.NAME.replace(\" \", \"\")\n",
    "\n",
    "    # Standard values:\n",
    "    if vkr == 0:\n",
    "        # Vkr is missing and default value is set
    "        vkr = 0.3\n",
    "        c_vkr = c_vkr + 1\n",
    "\n",
    "    if vk == 0:\n",
    "        # Vkr is missing and default value is set
    "        vk = 15\n",
    "        # name = name.__add__('vk ')\n",
    "\n",
    "        c_vk = c_vk + 1\n",
    "\n",
    "    if sn == 0:\n",
    "        sn = 0.1\n",
    "        # name = name.__add__('sn ')\n",
    "\n",
    "        c_sn = c_sn + 1\n",
    "    # PARAMETERS LEFT TO FIX:\n",
    "    pfe = linerow.MAG1  # /1000 #pfe_kW\n",
    "    i0 = linerow.MAG2  # 0 # i0_percent\n",
    "\n",
    "    service = True if (linerow.STAT == 1) else False\n",
    "    if linerow.COD1==0: \n",
    "        pp.create_transformer_from_parameters(net,\n",
    "                                              hv_bus=hv_b,\n",
    "                                              lv_bus=lv_b,\n",
    "                                              sn_mva=sn,\n",
    "                                              vn_hv_kv=hv,  # *linerow.WINDV1,\n",
    "                                              vn_lv_kv=lv,  # *linerow.WINDV2,\n",
    "                                              vkr_percent=vkr,\n",
    "                                              vk_percent=vk,\n",
    "                                              pfe_kw=pfe,\n",
    "                                              i0_percent=i0,\n",
    "                                              shift_degree=0,\n",
    "                                              tap_phase_shifter=False,\n",
    "                                              in_service=service,\n",
    "                                              name=name,\n",
    "                                              index=None,\n",
    "                                              max_loading_percent=100,\n",
    "                                              parallel=1,\n",
    "                                              df=1.0)\n",
    "    elif linerow.COD1==1: #tap transformer\n",
    "        if linerow.CONT1==lv_b:\n",
    "            tap_side = 'lv'\n",
    "            b = lv_b\n",
    "        else:\n",
    "            tap_side = 'hv'\n",
    "            b=hv_b\n",
    "        name = name[1:-1]\n",
    "\n",
    "        pp.create_transformer_from_parameters(net,\n",
    "                                              hv_bus=hv_b,\n",
    "                                              lv_bus=lv_b,\n",
    "                                              sn_mva=sn,\n",
    "                                              vn_hv_kv=hv,  # *linerow.WINDV1,\n",
    "                                              vn_lv_kv=lv,  # *linerow.WINDV2,\n",
    "                                              vkr_percent=vkr,\n",
    "                                              vk_percent=vk,\n",
    "                                              pfe_kw=pfe,\n",
    "                                              i0_percent=i0,\n",
    "                                              shift_degree=0,\n",
    "                                              tap_phase_shifter=False,\n",
    "                                              tap_side = tap_side,\n",
    "                                              tap_pos = tap_trafo[name]['normalStep'],\n",
    "                                              tap_neutral = tap_trafo[name]['neutralStep'],\n",
    "                                              tap_max = tap_trafo[name]['highStep'],\n",
    "                                              tap_min = tap_trafo[name]['lowStep'],\n",
    "                                              tap_step_percent = tap_trafo[name]['stepVoltageIncrement'],\n",
    "                                              tap_step_degree = np.nan,\n",
    "                                              in_service=service,\n",
    "                                              name=name,\n",
    "                                              index=None,\n",
    "                                              max_loading_percent=100,\n",
    "                                              parallel=1,\n",
    "                                              df=1.0)\n",
    "        \n",
    "        #Create controller for tap transformer\n",
    "        trafo_idx = net.trafo.index[net.trafo.name==name].values[0]\n",
    "        tap_index.append(trafo_idx)\n",
    "\n",
    "        vm_upper_pu = trafo_data.loc[trafo_idx].VMA1\n",
    "        vm_lower_pu = trafo_data.loc[trafo_idx].VMI1\n",
    "    \n",
    "        tapcontrol = DiscreteTapControl(net, trafo_idx, vm_lower_pu, vm_upper_pu, tap_side,trafotype='2W')\n",
    "        tapcontrol.controlled_bus = linerow.CONT1"
   ]
  },
  {
   "cell_type": "markdown",
   "id": "bbce0f0b",
   "metadata": {},
   "source": [
    "## Trial different ratings\n",
    "If RATEA in the raw file is empty we need to guess the ratings for the lines and trafos. Below is a method for testing different ratings:\n",
    "- Line: A set of possible ratings per voltage level, test until line is within 10-70%loading \n",
    "- Trafo: A set of trafo ratings, test until trafo is within 10-70% loading "
   ]
  },
  {
   "cell_type": "code",
   "execution_count": 24,
   "id": "df20d5dc",
   "metadata": {},
   "outputs": [],
   "source": [
    "#Read line ratings\n",
    "\n",
    "import json\n",
    "\n",
    "with open(currentdir+'\\\\data\\\\svedala\\\\line_ratings.json') as f:\n",
    "  line_ratings = json.load(f)\n",
    "\n",
    "lineratings= {}\n",
    "for (key, value) in line_ratings.items():\n",
    "    \n",
    "    lineratings[int(key)] = value\n",
    "\n",
    "#If ratings are missing try ratings from standard list for lines and trafos and select \n",
    "\n",
    "for key in lineratings.keys(): lineratings[key].sort()\n",
    "\n",
    "\n",
    "for idx, line in net.line.iterrows():\n",
    "        voltage = net.bus.vn_kv[net.bus.index == line.from_bus].values[0]\n",
    "        \n",
    "        for rating in lineratings[voltage]:\n",
    "            net.line.loc[idx,'max_i_ka'] = rating/1000\n",
    "            \n",
    "            pp.runpp(net,run_control=True)\n",
    "            if 10< net.res_line.loc[idx,'loading_percent']<70:\n",
    "                break\n",
    "\n",
    "trafo_ratings = net.trafo.sn_mva.unique()\n",
    "trafo_ratings.sort()\n",
    "\n",
    "for idx, trafo in net.trafo.iterrows():\n",
    "        for rating in trafo_ratings:\n",
    "            net.trafo.loc[idx,'sn_mva'] = rating\n",
    "            try:\n",
    "                \n",
    "                pp.runpp(net,run_control=True)\n",
    "                if 10< net.res_trafo.loc[idx,'loading_percent']<70:\n",
    "                    break\n",
    "            except:\n",
    "                pass"
   ]
  },
  {
   "cell_type": "code",
   "execution_count": 25,
   "id": "528af9b1",
   "metadata": {},
   "outputs": [
    {
     "data": {
      "text/plain": [
       "This pandapower network includes the following parameter tables:\n",
       "   - bus (108 elements)\n",
       "   - load (73 elements)\n",
       "   - gen (38 elements)\n",
       "   - shunt (27 elements)\n",
       "   - ext_grid (1 element)\n",
       "   - line (75 elements)\n",
       "   - trafo (53 elements)\n",
       "   - controller (38 elements)\n",
       "   - bus_geodata (108 elements)\n",
       " and the following results tables:\n",
       "   - res_bus (108 elements)\n",
       "   - res_line (75 elements)\n",
       "   - res_trafo (53 elements)\n",
       "   - res_ext_grid (1 element)\n",
       "   - res_load (73 elements)\n",
       "   - res_shunt (27 elements)\n",
       "   - res_gen (38 elements)"
      ]
     },
     "execution_count": 25,
     "metadata": {},
     "output_type": "execute_result"
    }
   ],
   "source": [
    "#Genereate geoccordinates\n",
    "create_generic_coordinates(net)"
   ]
  },
  {
   "cell_type": "code",
   "execution_count": 29,
   "id": "24829087",
   "metadata": {},
   "outputs": [],
   "source": [
    "#Store grid in json  for future use\n",
    "netfile = currentdir+'\\data\\svedala\\svedala.json'\n",
    "reset_all_controllers(net)\n",
    "pp.to_json(net,netfile)"
   ]
  }
 ],
 "metadata": {
  "interpreter": {
   "hash": "99a6eba8d56053f83d876fbd4d8fcae42d7c67f6132c29b8a3e34802751afe5a"
  },
  "kernelspec": {
   "display_name": "Python 3",
   "language": "python",
   "name": "python3"
  },
  "language_info": {
   "codemirror_mode": {
    "name": "ipython",
    "version": 3
   },
   "file_extension": ".py",
   "mimetype": "text/x-python",
   "name": "python",
   "nbconvert_exporter": "python",
   "pygments_lexer": "ipython3",
   "version": "3.7.3"
  }
 },
 "nbformat": 4,
 "nbformat_minor": 5
}
