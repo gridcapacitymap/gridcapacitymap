{
 "cells": [
  {
   "cell_type": "markdown",
   "metadata": {},
   "source": [
    "# Check violations and Contingency test"
   ]
  },
  {
   "cell_type": "code",
   "execution_count": 2,
   "metadata": {},
   "outputs": [],
   "source": [
    "#import external packages\n",
    "import pandas as pd\n",
    "import pandapower as pp\n",
    "import numpy as np\n",
    "import os,sys,inspect\n",
    "import json\n",
    "\n",
    "\n",
    "currentdir =  os.path.abspath(os.getcwd())\n",
    "parentdir = os.path.dirname(currentdir)\n",
    "sys.path.insert(0,parentdir)\n",
    "from capacitymap.grid import grid\n",
    "from capacitymap.analysis import analysis_check"
   ]
  },
  {
   "cell_type": "code",
   "execution_count": 4,
   "metadata": {},
   "outputs": [],
   "source": [
    "#create a grid instance for testing\n",
    "empt_df = pd.DataFrame(columns=['Start', 'End', 'Object_type','ObjectID', 'Status'])\n",
    "net = pp.from_json(currentdir+'\\data\\svedala\\svedala.json')\n",
    "g = grid.Grid('test',net, {}, empt_df)"
   ]
  },
  {
   "cell_type": "code",
   "execution_count": 5,
   "metadata": {},
   "outputs": [
    {
     "data": {
      "text/plain": [
       "((False, False, False, False, False, False, False),\n",
       " [None, None, None, None, None, None, None])"
      ]
     },
     "execution_count": 5,
     "metadata": {},
     "output_type": "execute_result"
    }
   ],
   "source": [
    "#counter to track number of power flows performed\n",
    "analysis_check.check_violations.counter=0\n",
    "\n",
    "#Perform pf and check results against limits\n",
    "analysis_check.check_violations(g.grid, run_control = True,vmax=1.12, vmin=0.9, max_line_loading=105., max_trafo_loading=100., p_lim=1000.)"
   ]
  },
  {
   "cell_type": "code",
   "execution_count": 6,
   "metadata": {},
   "outputs": [],
   "source": [
    "#Contingency calculation\n",
    "#Define lines and trafo to do N-1 on\n",
    "line_to_test = list(g.grid.line.index)\n",
    "trafo_to_test = list(g.grid.trafo.index)\n",
    "contingency_scenario = [line_to_test, trafo_to_test]\n",
    "\n",
    "# Limits for continency tests\n",
    "contingency_limits = {'vmin': 0.87,\n",
    "                'vmax': 1.15,\n",
    "                'max_line_loading' : 105,\n",
    "                'max_trafo_loading' : 100,\n",
    "                'subscription_p_limits': 1000,\n",
    "                'run_controllers': True}\n",
    "\n",
    "#Reset counter to track number of power flows performed for 1 contingnency analysis\n",
    "analysis_check.check_violations.counter=0\n",
    "\n",
    "#Perform contingency analysis\n",
    "cl,ct =analysis_check.contingency_test(g.grid,vmax=contingency_limits['vmax'],\n",
    "                           vmin=contingency_limits['vmin'],\n",
    "                           max_line_loading=contingency_limits['max_line_loading'],\n",
    "                           max_trafo_loading=contingency_limits['max_trafo_loading'],\n",
    "                           p_lim=contingency_limits['subscription_p_limits'],\n",
    "                           run_control=contingency_limits['run_controllers'],\n",
    "                           contingency_scenario=contingency_scenario)\n",
    "\n"
   ]
  },
  {
   "cell_type": "code",
   "execution_count": 7,
   "metadata": {},
   "outputs": [
    {
     "name": "stdout",
     "output_type": "stream",
     "text": [
      "Number of power flow:  122\n",
      "Number of critical lines:  38  total lines= 75\n",
      "Number of critical trafos:  40  total trafo= 53\n"
     ]
    }
   ],
   "source": [
    "#print results\n",
    "print('Number of power flow: ', analysis_check.check_violations.counter)\n",
    "print('Number of critical lines: ', len(cl), ' total lines=', len(g.grid.line))\n",
    "print('Number of critical trafos: ', len(ct), ' total trafo=', len(g.grid.trafo))\n"
   ]
  },
  {
   "cell_type": "markdown",
   "metadata": {},
   "source": [
    "Running contingency on all lines and trafo not realistic. Example some transformers/lines will be the only connection point to some loads, by taking these out-of-service they will of course be unsupplied and therefore fail our violation tests.\n",
    "\n",
    "## Create base contingency scenario\n",
    "By excluding all critical lines and trafos from the first run we get a list of contingency scenarios that will pass our violations check with an unchanged net. "
   ]
  },
  {
   "cell_type": "code",
   "execution_count": 8,
   "metadata": {},
   "outputs": [],
   "source": [
    "line_to_test = list(set(net.line.index)-set(cl))\n",
    "trafo_to_test = list(set(net.trafo.index)-set(ct))\n",
    "\n",
    "contingency_scenario = [line_to_test, trafo_to_test]"
   ]
  },
  {
   "cell_type": "code",
   "execution_count": 9,
   "metadata": {},
   "outputs": [],
   "source": [
    "#Reset counter to track number of power flows performed for 1 contingnency analysis\n",
    "analysis_check.check_violations.counter=0\n",
    "\n",
    "#Perform contingency analysis\n",
    "cl,ct =analysis_check.contingency_test(g.grid,vmax=contingency_limits['vmax'],\n",
    "                           vmin=contingency_limits['vmin'],\n",
    "                           max_line_loading=contingency_limits['max_line_loading'],\n",
    "                           max_trafo_loading=contingency_limits['max_trafo_loading'],\n",
    "                           p_lim=contingency_limits['subscription_p_limits'],\n",
    "                           run_control=contingency_limits['run_controllers'],\n",
    "                           contingency_scenario=contingency_scenario)\n"
   ]
  },
  {
   "cell_type": "code",
   "execution_count": 10,
   "metadata": {},
   "outputs": [
    {
     "name": "stdout",
     "output_type": "stream",
     "text": [
      "Number of power flow:  44\n",
      "Number of critical lines:  0  total lines= 75\n",
      "Number of critical trafos:  0  total trafo= 53\n"
     ]
    }
   ],
   "source": [
    "#print results\n",
    "print('Number of power flow: ', analysis_check.check_violations.counter)\n",
    "print('Number of critical lines: ', len(cl), ' total lines=', len(g.grid.line))\n",
    "print('Number of critical trafos: ', len(ct), ' total trafo=', len(g.grid.trafo))\n"
   ]
  },
  {
   "cell_type": "code",
   "execution_count": 11,
   "metadata": {},
   "outputs": [],
   "source": [
    "#Store data for further use\n",
    "#s = json.dumps(line_to_test)\n",
    "#open(parentdir+'\\data\\\\svedala\\\\line_to_test.json', \"w\").write(s)\n",
    "#s = json.dumps(trafo_to_test)\n",
    "#open(parentdir+'\\data\\\\svedala\\\\trafo_to_test.json', \"w\").write(s)"
   ]
  },
  {
   "cell_type": "code",
   "execution_count": null,
   "metadata": {},
   "outputs": [],
   "source": []
  }
 ],
 "metadata": {
  "interpreter": {
   "hash": "b3ba2566441a7c06988d0923437866b63cedc61552a5af99d1f4fb67d367b25f"
  },
  "kernelspec": {
   "display_name": "Python 3",
   "language": "python",
   "name": "python3"
  },
  "language_info": {
   "codemirror_mode": {
    "name": "ipython",
    "version": 3
   },
   "file_extension": ".py",
   "mimetype": "text/x-python",
   "name": "python",
   "nbconvert_exporter": "python",
   "pygments_lexer": "ipython3",
   "version": "3.7.3"
  }
 },
 "nbformat": 4,
 "nbformat_minor": 2
}
